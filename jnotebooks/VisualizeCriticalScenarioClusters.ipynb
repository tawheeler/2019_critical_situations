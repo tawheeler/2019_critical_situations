{
 "cells": [
  {
   "cell_type": "code",
   "execution_count": 1,
   "metadata": {
    "collapsed": false
   },
   "outputs": [
    {
     "data": {
      "text/html": [
       "<div id=\"interact-js-shim\">\n",
       "    <script charset=\"utf-8\">\n",
       "(function (IPython, $, _, MathJax) {\n",
       "    $.event.special.destroyed = {\n",
       "\tremove: function(o) {\n",
       "\t    if (o.handler) {\n",
       "\t\to.handler.apply(this, arguments)\n",
       "\t    }\n",
       "\t}\n",
       "    }\n",
       "\n",
       "    var OutputArea = IPython.version >= \"4.0.0\" ? require(\"notebook/js/outputarea\").OutputArea : IPython.OutputArea;\n",
       "\n",
       "    var redrawValue = function (container, type, val) {\n",
       "\tvar selector = $(\"<div/>\");\n",
       "\tvar oa = new OutputArea(_.extend(selector, {\n",
       "\t    selector: selector,\n",
       "\t    prompt_area: true,\n",
       "\t    events: IPython.events,\n",
       "\t    keyboard_manager: IPython.keyboard_manager\n",
       "\t})); // Hack to work with IPython 2.1.0\n",
       "\n",
       "\tswitch (type) {\n",
       "\tcase \"image/png\":\n",
       "            var _src = 'data:' + type + ';base64,' + val;\n",
       "\t    $(container).find(\"img\").attr('src', _src);\n",
       "\t    break;\n",
       "\tcase \"text/latex\":\n",
       "\t\tif (MathJax){\n",
       "\t\t\tvar math = MathJax.Hub.getAllJax(container)[0];\n",
       "\t\t\tMathJax.Hub.Queue([\"Text\", math, val.replace(/^\\${1,2}|\\${1,2}$/g, '')]);\n",
       "\t\t\tbreak;\n",
       "\t\t}\n",
       "\tdefault:\n",
       "\t    var toinsert = OutputArea.append_map[type].apply(\n",
       "\t\toa, [val, {}, selector]\n",
       "\t    );\n",
       "\t    $(container).empty().append(toinsert.contents());\n",
       "\t    selector.remove();\n",
       "\t}\n",
       "    }\n",
       "\n",
       "\n",
       "    $(document).ready(function() {\n",
       "\tfunction initComm(evt, data) {\n",
       "\t    var comm_manager = data.kernel.comm_manager;\n",
       "        //_.extend(comm_manager.targets, require(\"widgets/js/widget\"))\n",
       "\t    comm_manager.register_target(\"Signal\", function (comm) {\n",
       "            comm.on_msg(function (msg) {\n",
       "                var val = msg.content.data.value;\n",
       "                $(\".signal-\" + comm.comm_id).each(function() {\n",
       "                var type = $(this).data(\"type\");\n",
       "                if (typeof(val[type]) !== \"undefined\" && val[type] !== null) {\n",
       "                    redrawValue(this, type, val[type], type);\n",
       "                }\n",
       "                });\n",
       "                delete val;\n",
       "                delete msg.content.data.value;\n",
       "            });\n",
       "\t    });\n",
       "\n",
       "\t    // coordingate with Comm and redraw Signals\n",
       "\t    // XXX: Test using Reactive here to improve performance\n",
       "\t    $([IPython.events]).on(\n",
       "\t\t'output_appended.OutputArea', function (event, type, value, md, toinsert) {\n",
       "\t\t    if (md && md.reactive) {\n",
       "                // console.log(md.comm_id);\n",
       "                toinsert.addClass(\"signal-\" + md.comm_id);\n",
       "                toinsert.data(\"type\", type);\n",
       "                // Signal back indicating the mimetype required\n",
       "                var comm_manager = IPython.notebook.kernel.comm_manager;\n",
       "                var comm = comm_manager.comms[md.comm_id];\n",
       "                comm.then(function (c) {\n",
       "                    c.send({action: \"subscribe_mime\",\n",
       "                       mime: type});\n",
       "                    toinsert.bind(\"destroyed\", function() {\n",
       "                        c.send({action: \"unsubscribe_mime\",\n",
       "                               mime: type});\n",
       "                    });\n",
       "                })\n",
       "\t\t    }\n",
       "\t    });\n",
       "\t}\n",
       "\n",
       "\ttry {\n",
       "\t    // try to initialize right away. otherwise, wait on the status_started event.\n",
       "\t    initComm(undefined, IPython.notebook);\n",
       "\t} catch (e) {\n",
       "\t    $([IPython.events]).on('kernel_created.Kernel kernel_created.Session', initComm);\n",
       "\t}\n",
       "    });\n",
       "})(IPython, jQuery, _, MathJax);\n",
       "</script>\n",
       "    <script>\n",
       "        window.interactLoadedFlag = true\n",
       "       $(\"#interact-js-shim\").bind(\"destroyed\", function () {\n",
       "           if (window.interactLoadedFlag) {\n",
       "               console.warn(\"JavaScript required by Interact will be removed if you remove this cell or run using Interact more than once.\")\n",
       "           }\n",
       "       })\n",
       "       $([IPython.events]).on(\"kernel_starting.Kernel kernel_restarting.Kernel\", function () { window.interactLoadedFlag = false })\n",
       "   </script>\n",
       "</div>"
      ]
     },
     "metadata": {},
     "output_type": "display_data"
    },
    {
     "name": "stdout",
     "output_type": "stream",
     "text": [
      "loading records...\n",
      "loading scenarios...\n",
      "extracting features...\n",
      "saving to file...\n"
     ]
    }
   ],
   "source": [
    "using AutomotiveDrivingModels\n",
    "using AutoRisk\n",
    "using AutoViz\n",
    "using DataFrames\n",
    "using Interact\n",
    "using Records\n",
    "using HDF5, JLD\n",
    "using PGFPlots\n",
    "using BenchmarkTools\n",
    "using Reel\n",
    "\n",
    "include(\"../AutoMobius/AutoMobius.jl\")\n",
    "include(\"../clustering/feature_extraction.jl\")\n",
    "using AutoMobius"
   ]
  },
  {
   "cell_type": "code",
   "execution_count": 2,
   "metadata": {
    "collapsed": false
   },
   "outputs": [],
   "source": [
    "# load critical scenarios\n",
    "data_dir = \"../data/collision_scenarios\"\n",
    "list_records = load_records(data_dir)\n",
    "critical_frames_filepath = \"../data/clustering/critical_frames.txt\"\n",
    "scenarios = load_critical_scenarios(critical_frames_filepath, list_records);"
   ]
  },
  {
   "cell_type": "code",
   "execution_count": 3,
   "metadata": {
    "collapsed": false
   },
   "outputs": [],
   "source": [
    "# load classes\n",
    "classes_filepath = \"../data/clustering/classes.txt\"\n",
    "classes = readtable(classes_filepath);"
   ]
  },
  {
   "cell_type": "code",
   "execution_count": 4,
   "metadata": {
    "collapsed": false
   },
   "outputs": [
    {
     "data": {
      "text/plain": [
       "visualize_scenarios_by_class (generic function with 1 method)"
      ]
     },
     "execution_count": 4,
     "metadata": {},
     "output_type": "execute_result"
    }
   ],
   "source": [
    "# visualization\n",
    "# note: the index of the scenario in each class is a bit of a hack\n",
    "# as a result, the slider bar for it (idx) can only changes index after multiple increments\n",
    "function visualize_scenarios_by_class(scenarios::Array{CriticalScenario}, classes::DataFrame)\n",
    "    # share between visualizations \n",
    "    roadway = StraightRoadway(200.0) \n",
    "    scene = Scene1D()\n",
    "    models = Dict{Int, LaneFollowingDriver}()\n",
    "    \n",
    "     # prepare film for save case\n",
    "    frames = Frames(MIME(\"image/png\"), fps=10)\n",
    "\n",
    "    # visualize by class\n",
    "    n_classes = length(unique(classes[:class]))\n",
    "    class_indices = [find(classes[:class] .== c) for c in 1:n_classes]\n",
    "    class_counts = [length(c) for c in class_indices]\n",
    "    max_count = maximum(class_counts)\n",
    "    @manipulate for class in collect(1:n_classes),\n",
    "                    idx in 1:max_count,\n",
    "                    frame in 1:600,\n",
    "                    show_critical_frame_only in [false, true],\n",
    "                    save in [false, true],\n",
    "                    clear in [false, true]\n",
    "        scaled_idx = Int(floor(class_counts[class] / max_count * idx))\n",
    "        class_idx = class_indices[class][scaled_idx]\n",
    "        empty!(scene)\n",
    "        empty!(models)\n",
    "        frame = show_critical_frame_only ? scenarios[class_idx].frame_ind : frame\n",
    "        unpack!(scenarios[class_idx].rec, frame, scene, models)\n",
    "        stats = SceneOverlay[AttentionOverlay(id, model) for (id,model) in models]\n",
    "        frame = render(scene, roadway, stats, cam = StaticCamera(VecE2(100.0,0.0), 4.5))\n",
    "        \n",
    "        # saving and clearing works by \n",
    "        # (1) set clear to true then back to false \n",
    "        # (2) step through the frames to save as a gif slowly\n",
    "        # (3) set save to true then back to false\n",
    "        if save\n",
    "            filename = \"class_$(class)_idx_$(class_idx)\"\n",
    "            write(\"../../data/clustering/visualizations/$(filename).gif\", frames)\n",
    "            frames = Frames(MIME(\"image/png\"), fps=5)\n",
    "        end\n",
    "        if clear\n",
    "            frames = Frames(MIME(\"image/png\"), fps=10)\n",
    "        end\n",
    "        \n",
    "        frame\n",
    "    end\n",
    "end"
   ]
  },
  {
   "cell_type": "code",
   "execution_count": 5,
   "metadata": {
    "collapsed": false
   },
   "outputs": [
    {
     "data": {
      "text/html": [],
      "text/plain": [
       "Interact.Options{:ToggleButtons,Int64}(input: Signal{Int64}(1, nactions=1),\"class\",1,\"1\",Interact.OptionDict(DataStructures.OrderedDict(\"1\"=>1,\"2\"=>2,\"3\"=>3,\"4\"=>4),Dict(4=>\"4\",2=>\"2\",3=>\"3\",1=>\"1\")),Any[],Any[],true,\"horizontal\")"
      ]
     },
     "metadata": {},
     "output_type": "display_data"
    },
    {
     "data": {
      "text/html": [],
      "text/plain": [
       "Interact.Options{:SelectionSlider,Int64}(input-2: Signal{Int64}(147, nactions=1),\"idx\",147,\"147\",Interact.OptionDict(DataStructures.OrderedDict(\"1\"=>1,\"2\"=>2,\"3\"=>3,\"4\"=>4,\"5\"=>5,\"6\"=>6,\"7\"=>7,\"8\"=>8,\"9\"=>9,\"10\"=>10…),Dict(288=>\"288\",11=>\"11\",134=>\"134\",158=>\"158\",160=>\"160\",215=>\"215\",29=>\"29\",131=>\"131\",249=>\"249\",207=>\"207\"…)),Any[],Any[],true,\"horizontal\")"
      ]
     },
     "metadata": {},
     "output_type": "display_data"
    },
    {
     "data": {
      "text/html": [],
      "text/plain": [
       "Interact.Options{:SelectionSlider,Int64}(input-3: Signal{Int64}(300, nactions=1),\"frame\",300,\"300\",Interact.OptionDict(DataStructures.OrderedDict(\"1\"=>1,\"2\"=>2,\"3\"=>3,\"4\"=>4,\"5\"=>5,\"6\"=>6,\"7\"=>7,\"8\"=>8,\"9\"=>9,\"10\"=>10…),Dict(288=>\"288\",306=>\"306\",520=>\"520\",11=>\"11\",491=>\"491\",134=>\"134\",158=>\"158\",160=>\"160\",215=>\"215\",464=>\"464\"…)),Any[],Any[],true,\"horizontal\")"
      ]
     },
     "metadata": {},
     "output_type": "display_data"
    },
    {
     "data": {
      "text/html": [],
      "text/plain": [
       "Interact.Options{:ToggleButtons,Bool}(input-4: Signal{Bool}(false, nactions=1),\"show_critical_frame_only\",false,\"false\",Interact.OptionDict(DataStructures.OrderedDict(\"false\"=>false,\"true\"=>true),Dict(false=>\"false\",true=>\"true\")),Any[],Any[],true,\"horizontal\")"
      ]
     },
     "metadata": {},
     "output_type": "display_data"
    },
    {
     "data": {
      "text/html": [],
      "text/plain": [
       "Interact.Options{:ToggleButtons,Bool}(input-5: Signal{Bool}(false, nactions=1),\"save\",false,\"false\",Interact.OptionDict(DataStructures.OrderedDict(\"false\"=>false,\"true\"=>true),Dict(false=>\"false\",true=>\"true\")),Any[],Any[],true,\"horizontal\")"
      ]
     },
     "metadata": {},
     "output_type": "display_data"
    },
    {
     "data": {
      "text/html": [],
      "text/plain": [
       "Interact.Options{:ToggleButtons,Bool}(input-6: Signal{Bool}(false, nactions=1),\"clear\",false,\"false\",Interact.OptionDict(DataStructures.OrderedDict(\"false\"=>false,\"true\"=>true),Dict(false=>\"false\",true=>\"true\")),Any[],Any[],true,\"horizontal\")"
      ]
     },
     "metadata": {},
     "output_type": "display_data"
    },
    {
     "data": {
      "image/png": "[encoded data removed]",
      "text/plain": [
       "Cairo.CairoSurface{UInt32}(Ptr{Void} @0x00007fc456d74140,1000.0,600.0,#undef)"
      ]
     },
     "execution_count": 5,
     "metadata": {
      "comm_id": "10d29b35-e138-484b-a95c-16bf3edacd04",
      "reactive": true
     },
     "output_type": "execute_result"
    }
   ],
   "source": [
    "# run it!\n",
    "visualize_scenarios_by_class(scenarios, classes)"
   ]
  },
  {
   "cell_type": "code",
   "execution_count": null,
   "metadata": {
    "collapsed": true
   },
   "outputs": [],
   "source": []
  }
 ],
 "metadata": {
  "anaconda-cloud": {},
  "kernelspec": {
   "display_name": "Julia 0.5.0",
   "language": "julia",
   "name": "julia-0.5"
  },
  "language_info": {
   "file_extension": ".jl",
   "mimetype": "application/julia",
   "name": "julia",
   "version": "0.5.0"
  },
  "widgets": {
   "state": {
    "18d3a136-78b0-49c5-980c-d2cb6ce97756": {
     "views": [
      {
       "cell_index": 4
      }
     ]
    },
    "1930dcbd-a908-4dff-825b-89edb56e6d29": {
     "views": [
      {
       "cell_index": 4
      }
     ]
    },
    "a8fef06a-2058-4546-b464-dac06f27b805": {
     "views": [
      {
       "cell_index": 4
      }
     ]
    },
    "ab78f0b3-1546-43b4-90a8-673860e7a7de": {
     "views": [
      {
       "cell_index": 4
      }
     ]
    },
    "e0703a57-6e86-4cd9-b31a-abce36158b25": {
     "views": [
      {
       "cell_index": 4
      }
     ]
    },
    "f151c8d8-331f-4176-9e2b-41a719b437e2": {
     "views": [
      {
       "cell_index": 4
      }
     ]
    }
   },
   "version": "1.2.0"
  }
 },
 "nbformat": 4,
 "nbformat_minor": 1
}
