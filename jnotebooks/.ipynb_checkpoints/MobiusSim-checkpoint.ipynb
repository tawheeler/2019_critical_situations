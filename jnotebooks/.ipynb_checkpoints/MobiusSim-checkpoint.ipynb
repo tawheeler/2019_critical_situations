{
 "cells": [
  {
   "cell_type": "markdown",
   "metadata": {},
   "source": [
    "# Mobius Simulation"
   ]
  },
  {
   "cell_type": "code",
   "execution_count": 1,
   "metadata": {
    "collapsed": false
   },
   "outputs": [],
   "source": [
    "using AutomotiveDrivingModels\n",
    "using AutoRisk\n",
    "using AutoViz\n",
    "using HDF5, JLD"
   ]
  },
  {
   "cell_type": "code",
   "execution_count": 2,
   "metadata": {
    "collapsed": false
   },
   "outputs": [],
   "source": [
    "include(\"../1DBayesNetsSceneModel.jl\")\n",
    "include(\"../IDMBehaviorGenerator.jl\")\n",
    "include(\"../mobius_simulation.jl\")"
   ]
  },
  {
   "cell_type": "code",
   "execution_count": 3,
   "metadata": {
    "collapsed": false
   },
   "outputs": [
    {
     "data": {
      "text/plain": [
       "get_pastel_car_colors (generic function with 1 method)"
      ]
     },
     "execution_count": 3,
     "metadata": {},
     "output_type": "execute_result"
    }
   ],
   "source": [
    "function get_pastel_car_colors(scene::Scene)\n",
    "    retval = Dict{Int,Colorant}()\n",
    "    n = length(scene)\n",
    "    for i in 1 : n\n",
    "        retval[i] = convert(RGB, HSV(180*(i-1)/(n-1), 0.85, 0.85))\n",
    "    end\n",
    "    return retval\n",
    "end"
   ]
  },
  {
   "cell_type": "code",
   "execution_count": 4,
   "metadata": {
    "collapsed": false
   },
   "outputs": [
    {
     "data": {
      "image/png": "[encoded data removed]",
      "text/plain": [
       "Cairo.CairoSurface{UInt32}(Ptr{Void} @0x0000000005acd2b0,1000.0,100.0,#undef)"
      ]
     },
     "execution_count": 4,
     "metadata": {},
     "output_type": "execute_result"
    }
   ],
   "source": [
    "srand(0)\n",
    "scenegen = BayesNets1DSceneModel(JLD.load(\"../data/1dbnscenemodel.jld\", \"bn\"),\n",
    "                                 JLD.load(\"../data/1dbnscenemodel.jld\", \"discs\"), MersenneTwister(0))\n",
    "context = MobiusContext(200.0, IntegratedContinuous(0.1, 4))\n",
    "behgen = CorrelatedIDMBehaviorGenerator(context=context)\n",
    "roadway = gen_straight_roadway(1, context.roadlength+20.0, origin=VecSE2(-10.0,0.0,0.0))\n",
    "scene = sample_lane(scenegen, roadway, context.roadlength)\n",
    "models = rand(behgen, Dict{Int, LaneFollowingDriver}(), scene)\n",
    "cam = StaticCamera(VecE2(100.0,0.0), 4.75)\n",
    "car_colors = get_pastel_car_colors(scene)\n",
    "render(scene, roadway, cam=cam, canvas_height=100, car_colors=car_colors)"
   ]
  },
  {
   "cell_type": "code",
   "execution_count": 5,
   "metadata": {
    "collapsed": false
   },
   "outputs": [],
   "source": [
    "# actions = get_actions!(Array(DriveAction, length(scene)), scene, roadway, models)\n",
    "\n",
    "# function drawsim(t, dt=NaN)\n",
    "#     get_actions!(actions, scene, roadway, models)\n",
    "#     tick!(scene, roadway, actions, models)\n",
    "#     render(scene, roadway, cam=cam, canvas_height=100, car_colors=car_colors)\n",
    "# end\n",
    "\n",
    "# drawsim(1)"
   ]
  },
  {
   "cell_type": "code",
   "execution_count": 6,
   "metadata": {
    "collapsed": false
   },
   "outputs": [],
   "source": [
    "# using Reactive\n",
    "# using Interact\n",
    "\n",
    "# framerate = 10\n",
    "\n",
    "# ticks = fps(framerate)\n",
    "# timestamps = map(_ -> time(), ticks)\n",
    "# s = map(drawsim, timestamps)"
   ]
  },
  {
   "cell_type": "code",
   "execution_count": 9,
   "metadata": {
    "collapsed": false
   },
   "outputs": [
    {
     "data": {
      "text/plain": [
       "\"DONE\""
      ]
     },
     "execution_count": 9,
     "metadata": {},
     "output_type": "execute_result"
    }
   ],
   "source": [
    "nticks = 100\n",
    "rec = SceneRecord(nticks+1, context.subcontext.Δt)\n",
    "simulate!(rec, scene, roadway, models, nticks, [has_collision_callback])\n",
    "\"DONE\""
   ]
  },
  {
   "cell_type": "code",
   "execution_count": 10,
   "metadata": {
    "collapsed": false
   },
   "outputs": [
    {
     "data": {
      "text/html": [
       "<div id=\"interact-js-shim\">\n",
       "    <script charset=\"utf-8\">\n",
       "(function (IPython, $, _, MathJax) {\n",
       "    $.event.special.destroyed = {\n",
       "\tremove: function(o) {\n",
       "\t    if (o.handler) {\n",
       "\t\to.handler.apply(this, arguments)\n",
       "\t    }\n",
       "\t}\n",
       "    }\n",
       "\n",
       "    var OutputArea = IPython.version >= \"4.0.0\" ? require(\"notebook/js/outputarea\").OutputArea : IPython.OutputArea;\n",
       "\n",
       "    var redrawValue = function (container, type, val) {\n",
       "\tvar selector = $(\"<div/>\");\n",
       "\tvar oa = new OutputArea(_.extend(selector, {\n",
       "\t    selector: selector,\n",
       "\t    prompt_area: true,\n",
       "\t    events: IPython.events,\n",
       "\t    keyboard_manager: IPython.keyboard_manager\n",
       "\t})); // Hack to work with IPython 2.1.0\n",
       "\n",
       "\tswitch (type) {\n",
       "\tcase \"image/png\":\n",
       "            var _src = 'data:' + type + ';base64,' + val;\n",
       "\t    $(container).find(\"img\").attr('src', _src);\n",
       "\t    break;\n",
       "\tcase \"text/latex\":\n",
       "\t\tif (MathJax){\n",
       "\t\t\tvar math = MathJax.Hub.getAllJax(container)[0];\n",
       "\t\t\tMathJax.Hub.Queue([\"Text\", math, val.replace(/^\\${1,2}|\\${1,2}$/g, '')]);\n",
       "\t\t\tbreak;\n",
       "\t\t}\n",
       "\tdefault:\n",
       "\t    var toinsert = OutputArea.append_map[type].apply(\n",
       "\t\toa, [val, {}, selector]\n",
       "\t    );\n",
       "\t    $(container).empty().append(toinsert.contents());\n",
       "\t    selector.remove();\n",
       "\t}\n",
       "    }\n",
       "\n",
       "\n",
       "    $(document).ready(function() {\n",
       "\tfunction initComm(evt, data) {\n",
       "\t    var comm_manager = data.kernel.comm_manager;\n",
       "        //_.extend(comm_manager.targets, require(\"widgets/js/widget\"))\n",
       "\t    comm_manager.register_target(\"Signal\", function (comm) {\n",
       "            comm.on_msg(function (msg) {\n",
       "                var val = msg.content.data.value;\n",
       "                $(\".signal-\" + comm.comm_id).each(function() {\n",
       "                var type = $(this).data(\"type\");\n",
       "                if (typeof(val[type]) !== \"undefined\" && val[type] !== null) {\n",
       "                    redrawValue(this, type, val[type], type);\n",
       "                }\n",
       "                });\n",
       "                delete val;\n",
       "                delete msg.content.data.value;\n",
       "            });\n",
       "\t    });\n",
       "\n",
       "\t    // coordingate with Comm and redraw Signals\n",
       "\t    // XXX: Test using Reactive here to improve performance\n",
       "\t    $([IPython.events]).on(\n",
       "\t\t'output_appended.OutputArea', function (event, type, value, md, toinsert) {\n",
       "\t\t    if (md && md.reactive) {\n",
       "                // console.log(md.comm_id);\n",
       "                toinsert.addClass(\"signal-\" + md.comm_id);\n",
       "                toinsert.data(\"type\", type);\n",
       "                // Signal back indicating the mimetype required\n",
       "                var comm_manager = IPython.notebook.kernel.comm_manager;\n",
       "                var comm = comm_manager.comms[md.comm_id];\n",
       "                comm.then(function (c) {\n",
       "                    c.send({action: \"subscribe_mime\",\n",
       "                       mime: type});\n",
       "                    toinsert.bind(\"destroyed\", function() {\n",
       "                        c.send({action: \"unsubscribe_mime\",\n",
       "                               mime: type});\n",
       "                    });\n",
       "                })\n",
       "\t\t    }\n",
       "\t    });\n",
       "\t}\n",
       "\n",
       "\ttry {\n",
       "\t    // try to initialize right away. otherwise, wait on the status_started event.\n",
       "\t    initComm(undefined, IPython.notebook);\n",
       "\t} catch (e) {\n",
       "\t    $([IPython.events]).on('kernel_created.Kernel kernel_created.Session', initComm);\n",
       "\t}\n",
       "    });\n",
       "})(IPython, jQuery, _, MathJax);\n",
       "</script>\n",
       "    <script>\n",
       "        window.interactLoadedFlag = true\n",
       "       $(\"#interact-js-shim\").bind(\"destroyed\", function () {\n",
       "           if (window.interactLoadedFlag) {\n",
       "               console.warn(\"JavaScript required by Interact will be removed if you remove this cell or run using Interact more than once.\")\n",
       "           }\n",
       "       })\n",
       "       $([IPython.events]).on(\"kernel_starting.Kernel kernel_restarting.Kernel\", function () { window.interactLoadedFlag = false })\n",
       "   </script>\n",
       "</div>"
      ]
     },
     "metadata": {},
     "output_type": "display_data"
    },
    {
     "data": {
      "text/html": [],
      "text/plain": [
       "Interact.Options{:SelectionSlider,Int64}(Signal{Int64}(50, nactions=1),\"frame\",50,\"50\",Interact.OptionDict(DataStructures.OrderedDict(\"1\"=>1,\"2\"=>2,\"3\"=>3,\"4\"=>4,\"5\"=>5,\"6\"=>6,\"7\"=>7,\"8\"=>8,\"9\"=>9,\"10\"=>10…),Dict(68=>\"68\",2=>\"2\",89=>\"89\",11=>\"11\",39=>\"39\",46=>\"46\",85=>\"85\",25=>\"25\",55=>\"55\",42=>\"42\"…)),Any[],Any[],true,\"horizontal\")"
      ]
     },
     "metadata": {},
     "output_type": "display_data"
    },
    {
     "data": {
      "image/png": "[encoded data removed]",
      "text/plain": [
       "Cairo.CairoSurface{UInt32}(Ptr{Void} @0x0000000005ecd970,1000.0,100.0,#undef)"
      ]
     },
     "execution_count": 10,
     "metadata": {
      "comm_id": "98d40372-ba7a-4193-bb15-b20942715bcd",
      "reactive": true
     },
     "output_type": "execute_result"
    }
   ],
   "source": [
    "using Interact\n",
    "@manipulate for frame in 1  : length(rec)\n",
    "    render(get_scene(rec, frame-length(rec)), roadway, cam=cam, canvas_height=100, car_colors=car_colors)\n",
    "end"
   ]
  },
  {
   "cell_type": "markdown",
   "metadata": {},
   "source": [
    "* Identify dangeous scenes\n",
    "* Determine how many of them are caused by initial configurations and how many are caused by bad behavior during the sim\n",
    "* Plot the risk vs. time to collision profile\n",
    "* Cluster"
   ]
  },
  {
   "cell_type": "code",
   "execution_count": 14,
   "metadata": {
    "collapsed": false
   },
   "outputs": [],
   "source": [
    "for i in 1 : 10000\n",
    "    srand(i)\n",
    "    scene = sample_lane(scenegen, roadway, context.roadlength)\n",
    "    models = rand(behgen, models, scene)\n",
    "    simulate!(rec, scene, roadway, models, nticks, [has_collision_callback])\n",
    "    had_collison = length(rec) != nticks+1\n",
    "    if had_collison\n",
    "        println(\"got collision! \", length(rec), \" \", i)\n",
    "        for veh in get_scene(rec, 0)\n",
    "            println(veh.state.posF.s)\n",
    "        end\n",
    "        error(\"col\")\n",
    "        break\n",
    "    end\n",
    "end"
   ]
  },
  {
   "cell_type": "code",
   "execution_count": 12,
   "metadata": {
    "collapsed": false
   },
   "outputs": [
    {
     "name": "stderr",
     "output_type": "stream",
     "text": [
      "WARNING: using OnlineStats.value in module Main conflicts with an existing identifier.\n",
      "WARNING: Method definition has_1D_collision(Real, Real, Real, Real) in module Main at In[8]:1 overwritten at /home/tim/Documents/papers/2016_adas_validation/code/MCRiskEvaluator.jl:3.\n",
      "WARNING: Method definition has_collision_callback(AutomotiveDrivingModels.AutoCore.SceneRecord, AutomotiveDrivingModels.AutoCore.Roadway, Base.Dict{Int64, #D<:AutomotiveDrivingModels.DriverModel}) in module Main at In[8]:4 overwritten at /home/tim/Documents/papers/2016_adas_validation/code/MCRiskEvaluator.jl:6.\n"
     ]
    },
    {
     "data": {
      "text/plain": [
       "estimate_collision_likelihood (generic function with 1 method)"
      ]
     },
     "execution_count": 12,
     "metadata": {},
     "output_type": "execute_result"
    }
   ],
   "source": [
    "include(\"../MCRiskEvaluator.jl\")"
   ]
  },
  {
   "cell_type": "code",
   "execution_count": 16,
   "metadata": {
    "collapsed": false
   },
   "outputs": [
    {
     "data": {
      "text/plain": [
       "■ Variance{EqualWeight}\n",
       "  >     value: 0.0\n",
       "  >      nobs: 1000\n"
      ]
     },
     "execution_count": 16,
     "metadata": {},
     "output_type": "execute_result"
    }
   ],
   "source": [
    "nsimulations = 1000\n",
    "estimate_collision_likelihood(roadway, get_scene(rec, -1), models, nsimulations, nticks, rec.timestep)"
   ]
  },
  {
   "cell_type": "code",
   "execution_count": null,
   "metadata": {
    "collapsed": true
   },
   "outputs": [],
   "source": []
  }
 ],
 "metadata": {
  "anaconda-cloud": {},
  "kernelspec": {
   "display_name": "Julia 0.5.0",
   "language": "julia",
   "name": "julia-0.5"
  },
  "language_info": {
   "file_extension": ".jl",
   "mimetype": "application/julia",
   "name": "julia",
   "version": "0.5.0"
  },
  "widgets": {
   "state": {
    "18418766-7fd3-4ac0-8dc0-c810bde8b81a": {
     "views": [
      {
       "cell_index": 10
      }
     ]
    }
   },
   "version": "1.2.0"
  }
 },
 "nbformat": 4,
 "nbformat_minor": 2
}
