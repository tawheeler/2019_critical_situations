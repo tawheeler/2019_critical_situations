{
 "cells": [
  {
   "cell_type": "markdown",
   "metadata": {},
   "source": [
    "# Train 1D BN Scene Gen Model"
   ]
  },
  {
   "cell_type": "code",
   "execution_count": 1,
   "metadata": {
    "collapsed": false
   },
   "outputs": [
    {
     "name": "stderr",
     "output_type": "stream",
     "text": [
      "\u001b[1m\u001b[36mINFO: \u001b[39m\u001b[22m\u001b[36mRecompiling stale cache file /home/tim/.julia/lib/v0.6/NGSIM.ji for module NGSIM.\n",
      "\u001b[39m"
     ]
    }
   ],
   "source": [
    "using AutomotiveDrivingModels\n",
    "using AutoViz\n",
    "using NGSIM\n",
    "\n",
    "include(\"../AutoMobius/AutoMobius.jl\")\n",
    "using AutoMobius"
   ]
  },
  {
   "cell_type": "code",
   "execution_count": 33,
   "metadata": {
    "collapsed": false
   },
   "outputs": [],
   "source": [
    "scene_length = 200.0 # [m]\n",
    "scene = MobiusScene()\n",
    "roadway = Wraparound(Straight1DRoadway(scene_length));"
   ]
  },
  {
   "cell_type": "code",
   "execution_count": 34,
   "metadata": {
    "collapsed": false
   },
   "outputs": [],
   "source": [
    "trajdata = load_ngsim_trajdata(1);"
   ]
  },
  {
   "cell_type": "code",
   "execution_count": 42,
   "metadata": {
    "collapsed": false
   },
   "outputs": [],
   "source": [
    "# vehicle definitions\n",
    "defs = Dict{Int, BoundingBoxDef}()\n",
    "for id in NGSIM.carid_set(trajdata)\n",
    "    frame = NGSIM.get_frame_range(trajdata, id)[1]\n",
    "    d = NGSIM.car_df_index(trajdata, id, frame)\n",
    "    class = trajdata.df[d, :class]\n",
    "    if class == 1\n",
    "        class = AgentClass.MOTORCYCLE\n",
    "    elseif class == 2\n",
    "        class = AgentClass.CAR\n",
    "    elseif class == 3\n",
    "        class = AgentClass.TRUCK\n",
    "    else\n",
    "        error(\"unknown class type \", class)\n",
    "    end\n",
    "    len = trajdata.df[d, :length] * NGSIM.METERS_PER_FOOT\n",
    "    wid = trajdata.df[d, :width] * NGSIM.METERS_PER_FOOT\n",
    "    defs[id] = BoundingBoxDef(class, len, wid)\n",
    "end"
   ]
  },
  {
   "cell_type": "code",
   "execution_count": 70,
   "metadata": {
    "collapsed": false
   },
   "outputs": [
    {
     "data": {
      "text/plain": [
       "14458"
      ]
     },
     "execution_count": 70,
     "metadata": {},
     "output_type": "execute_result"
    }
   ],
   "source": [
    "scenes = MobiusScene[]\n",
    "frameskip = 10\n",
    "for frame in 500 : frameskip : nframes(trajdata) - 500\n",
    "    cars = NGSIM.carsinframe(trajdata, frame)\n",
    "    if !isempty(cars)\n",
    "        car_df_indices = NGSIM.car_df_index.(trajdata, cars, frame)\n",
    "        arr_s = convert(Vector{Float64}, trajdata.df[car_df_indices, :local_y]) .*  NGSIM.METERS_PER_FOOT\n",
    "        arr_lane = convert(Vector{Int}, trajdata.df[car_df_indices, :lane])\n",
    "        for lane in unique(arr_lane)\n",
    "            indices_in_lane = find(arr_lane .== lane)\n",
    "            ids_in_lane = cars[indices_in_lane]\n",
    "            arr_s_inlane_fore = arr_s[indices_in_lane]\n",
    "            arr_s_inlane_rear = arr_s_inlane_fore - [defs[id].len for id in ids_in_lane]\n",
    "            s_lo, s_hi = minimum(arr_s_inlane_rear), maximum(arr_s_inlane_fore)\n",
    "            for s in s_lo - 10.0 : scene_length : s_hi + 10\n",
    "                a = s\n",
    "                b = s + scene_length\n",
    "                scene = MobiusScene()\n",
    "                for (s_rear, s_fore, id) in zip(arr_s_inlane_rear, arr_s_inlane_fore, ids_in_lane)\n",
    "                    if s_rear > a && s_fore < b\n",
    "                        v = trajdata.df[NGSIM.car_df_index(trajdata, id, frame), :speed] * NGSIM.METERS_PER_FOOT\n",
    "                        state = PosSpeed1D((s_rear + s_fore)/2, v)\n",
    "                        def = defs[id]\n",
    "                        push!(scene, MobiusEntity(state, def, id))\n",
    "                    end\n",
    "                end\n",
    "                if length(scene) > 1 && !has_collision(scene, roadway) # at least 2 cars\n",
    "                    push!(scenes, scene)\n",
    "                end\n",
    "            end\n",
    "        end\n",
    "    end\n",
    "end\n",
    "length(scenes)"
   ]
  },
  {
   "cell_type": "code",
   "execution_count": 69,
   "metadata": {
    "collapsed": false
   },
   "outputs": [
    {
     "data": {
      "image/png": "[encoded data removed]",
      "text/plain": [
       "Cairo.CairoSurface{UInt32}(Ptr{Void} @0x00000000571972d0, 1000.0, 100.0, #undef)"
      ]
     },
     "execution_count": 69,
     "metadata": {},
     "output_type": "execute_result"
    }
   ],
   "source": [
    "using Interact\n",
    "i = 100\n",
    "# @manipulate for i in 1 : length(scenes)\n",
    "    scene = scenes[i]\n",
    "    cam = StaticCamera(VecE2(100.0,0.0), 4.75)\n",
    "    car_colors = get_pastel_car_colors(scene)\n",
    "    render(scene, roadway, cam=cam, canvas_height=100, car_colors=car_colors)\n",
    "# end"
   ]
  },
  {
   "cell_type": "code",
   "execution_count": 72,
   "metadata": {
    "collapsed": false
   },
   "outputs": [],
   "source": [
    "open(\"../data/scenes_NGSIM.txt\", \"w\") do io\n",
    "    write(io, MIME\"text/plain\"(), scenes)\n",
    "end"
   ]
  },
  {
   "cell_type": "code",
   "execution_count": null,
   "metadata": {
    "collapsed": true
   },
   "outputs": [],
   "source": []
  }
 ],
 "metadata": {
  "anaconda-cloud": {},
  "kernelspec": {
   "display_name": "Julia 0.6.0",
   "language": "julia",
   "name": "julia-0.6"
  },
  "language_info": {
   "file_extension": ".jl",
   "mimetype": "application/julia",
   "name": "julia",
   "version": "0.6.0"
  },
  "widgets": {
   "state": {},
   "version": "2.0.10"
  }
 },
 "nbformat": 4,
 "nbformat_minor": 0
}
