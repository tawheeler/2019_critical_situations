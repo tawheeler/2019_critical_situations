{
 "cells": [
  {
   "cell_type": "code",
   "execution_count": 1,
   "metadata": {
    "collapsed": false
   },
   "outputs": [
    {
     "data": {
      "text/plain": [
       "\"DONE\""
      ]
     },
     "execution_count": 1,
     "metadata": {},
     "output_type": "execute_result"
    }
   ],
   "source": [
    "using AutomotiveDrivingModels\n",
    "using AutoViz\n",
    "using AutoScenes\n",
    "using Records\n",
    "using PGFPlots\n",
    "using Parameters\n",
    "\n",
    "include(\"../AutoMobius/AutoMobius.jl\")\n",
    "using AutoMobius\n",
    "\n",
    "include(\"../crit_cluster_sampling/sample_factor_graph_with_criticality.jl\")\n",
    "\n",
    "include(\"../clustering/clustering.jl\")\n",
    "\"DONE\""
   ]
  },
  {
   "cell_type": "markdown",
   "metadata": {},
   "source": [
    "### Data for the Clusters"
   ]
  },
  {
   "cell_type": "code",
   "execution_count": 2,
   "metadata": {
    "collapsed": false
   },
   "outputs": [
    {
     "name": "stdout",
     "output_type": "stream",
     "text": [
      "elapsed time: 12.049633642 seconds\n"
     ]
    },
    {
     "data": {
      "text/plain": [
       "2000"
      ]
     },
     "execution_count": 2,
     "metadata": {},
     "output_type": "execute_result"
    }
   ],
   "source": [
    "tic()\n",
    "dicts = load_collision_scenarios()\n",
    "toc()\n",
    "length(dicts.list_records)"
   ]
  },
  {
   "cell_type": "code",
   "execution_count": 3,
   "metadata": {
    "collapsed": false
   },
   "outputs": [
    {
     "name": "stdout",
     "output_type": "stream",
     "text": [
      "LLR1 => 5 critical entries\n",
      "R1 => 450 critical entries\n",
      "LR1 => 1537 critical entries\n",
      "LLL0 => 8 critical entries\n"
     ]
    }
   ],
   "source": [
    "crit_entries = load_crit_entries()\n",
    "clusters = map_cluster_names_to_indices(crit_entries)\n",
    "\n",
    "for (s,inds) in clusters\n",
    "    println(s, \" => \", length(inds), \" critical entries\")\n",
    "end"
   ]
  },
  {
   "cell_type": "code",
   "execution_count": 4,
   "metadata": {
    "collapsed": true
   },
   "outputs": [],
   "source": [
    "risk_threshold = 0.5\n",
    "crit_scenes = load_crit_scenes(crit_entries, risk_threshold=risk_threshold);"
   ]
  },
  {
   "cell_type": "code",
   "execution_count": 5,
   "metadata": {
    "collapsed": false
   },
   "outputs": [
    {
     "data": {
      "text/plain": [
       "(-0.5744683486484573, 40.75209574540072)"
      ]
     },
     "execution_count": 5,
     "metadata": {},
     "output_type": "execute_result"
    }
   ],
   "source": [
    "speed_lo = Inf\n",
    "speed_hi = -Inf\n",
    "for scene in crit_scenes\n",
    "    for veh in scene\n",
    "        speed_lo = min(speed_lo, veh.state.v)\n",
    "        speed_hi = max(speed_hi, veh.state.v)\n",
    "    end\n",
    "end\n",
    "(speed_lo, speed_hi)"
   ]
  },
  {
   "cell_type": "markdown",
   "metadata": {},
   "source": [
    "### Load Factor Graphs"
   ]
  },
  {
   "cell_type": "code",
   "execution_count": 21,
   "metadata": {
    "collapsed": false
   },
   "outputs": [
    {
     "data": {
      "text/plain": [
       "\"DONE\""
      ]
     },
     "execution_count": 21,
     "metadata": {},
     "output_type": "execute_result"
    }
   ],
   "source": [
    "clusterids = [\"R1\", \"LR1\"]\n",
    "models = Dict{String, FactorModel}()\n",
    "for clusterid in clusterids\n",
    "    model = @AutoScenes.load_factor_model(\"../data/1d_factorgraph_model_with_criticality_$clusterid.txt\")\n",
    "    model = create_penalty_model_from_global(model)\n",
    "    models[clusterid] = model\n",
    "end\n",
    "\"DONE\""
   ]
  },
  {
   "cell_type": "code",
   "execution_count": 12,
   "metadata": {
    "collapsed": true
   },
   "outputs": [],
   "source": [
    "mutable struct CriticalCarOverlay <: SceneOverlay\n",
    "    target_id::Int\n",
    "end\n",
    "function AutoViz.render!(rendermodel::RenderModel, overlay::CriticalCarOverlay, scene::MobiusScene, roadway::MobiusRoadway)\n",
    "    ind = findfirst(scene, overlay.target_id)\n",
    "    if ind > 0\n",
    "        veh = scene[ind]\n",
    "        pts = Matrix{Float64}(2,2)\n",
    "        pts[1,:] = veh.state.s\n",
    "        pts[2,1] = -12\n",
    "        pts[2,2] = -5\n",
    "        add_instruction!(rendermodel, render_arrow, (pts, colorant\"white\", 0.25, 3.0))\n",
    "    end\n",
    "    return rendermodel\n",
    "end"
   ]
  },
  {
   "cell_type": "code",
   "execution_count": 15,
   "metadata": {
    "collapsed": false
   },
   "outputs": [
    {
     "data": {
      "image/png": "[encoded data removed]",
      "text/plain": [
       "Cairo.CairoSurface{UInt32}(Ptr{Void} @0x0000000005754dd0, 1000.0, 100.0, #undef)"
      ]
     },
     "execution_count": 15,
     "metadata": {},
     "output_type": "execute_result"
    }
   ],
   "source": [
    "srand(0)\n",
    "timestep = 0.1\n",
    "behgen = ErrorableIDMBehaviorGenerator(timestep)\n",
    "\n",
    "scene_index = 1\n",
    "scene = crit_scenes[scene_index]\n",
    "\n",
    "cam = StaticCamera(VecE2(100.0,0.0), 4.75)\n",
    "car_colors = get_pastel_car_colors(scene)\n",
    "render(scene, roadway, SceneOverlay[CriticalCarOverlay(dicts.crit_rears[crit_entries[scene_index].key]),\n",
    "                                    CriticalCarOverlay(dicts.crit_fores[crit_entries[scene_index].key])],\n",
    "       cam=cam, canvas_height=100, car_colors=car_colors)"
   ]
  },
  {
   "cell_type": "code",
   "execution_count": 27,
   "metadata": {
    "collapsed": false
   },
   "outputs": [
    {
     "name": "stdout",
     "output_type": "stream",
     "text": [
      "elapsed time: 3.444145944 seconds\n"
     ]
    },
    {
     "data": {
      "text/plain": [
       "3.444145944"
      ]
     },
     "execution_count": 27,
     "metadata": {},
     "output_type": "execute_result"
    }
   ],
   "source": [
    "cluster_factorgraphs = Dict{String, Vector{FactorGraph}}()\n",
    "tic()\n",
    "for clusterid in clusterids\n",
    "    features = models[clusterid].features\n",
    "    factorgraphs = [get_factorgraph(crit_scenes[scene_index], roadway, get_crit_cars(dicts, crit_entries, scene_index), features)\n",
    "                    for scene_index in 1:length(crit_scenes) if crit_entries[scene_index].assignment == clusterid]\n",
    "    cluster_factorgraphs[clusterid] = factorgraphs\n",
    "end\n",
    "toc()"
   ]
  },
  {
   "cell_type": "code",
   "execution_count": 29,
   "metadata": {
    "collapsed": false
   },
   "outputs": [
    {
     "data": {
      "text/plain": [
       "\"DONE\""
      ]
     },
     "execution_count": 29,
     "metadata": {},
     "output_type": "execute_result"
    }
   ],
   "source": [
    "gens = Dict{String, FactorGraphSceneGenerator}()\n",
    "for clusterid in clusterids\n",
    "    gens[clusterid] = FactorGraphSceneGenerator(models[clusterid], Dict(:s => Normal(0.0,5.0), :v => Normal(0.0,1.0)), 1000)\n",
    "end\n",
    "\"DONE\""
   ]
  },
  {
   "cell_type": "code",
   "execution_count": 15,
   "metadata": {
    "collapsed": false
   },
   "outputs": [
    {
     "data": {
      "image/png": "[encoded data removed]",
      "text/plain": [
       "Cairo.CairoSurface{UInt32}(Ptr{Void} @0x0000000005f288c0, 1000.0, 100.0, #undef)"
      ]
     },
     "execution_count": 15,
     "metadata": {},
     "output_type": "execute_result"
    }
   ],
   "source": [
    "scene2 = shift_scene!(MobiusScene(), Δ, factorgraph)\n",
    "render(scene2, roadway, cam=cam, canvas_height=100, car_colors=car_colors)"
   ]
  },
  {
   "cell_type": "code",
   "execution_count": 16,
   "metadata": {
    "collapsed": false
   },
   "outputs": [
    {
     "data": {
      "image/png": "[encoded data removed]",
      "text/plain": [
       "Cairo.CairoSurface{UInt32}(Ptr{Void} @0x00000000053e77e0, 1000.0, 100.0, #undef)"
      ]
     },
     "execution_count": 16,
     "metadata": {},
     "output_type": "execute_result"
    }
   ],
   "source": [
    "render(scenes[1], roadway, cam=cam, canvas_height=100, car_colors=car_colors)"
   ]
  },
  {
   "cell_type": "markdown",
   "metadata": {},
   "source": [
    "# sample a dataset"
   ]
  },
  {
   "cell_type": "code",
   "execution_count": 21,
   "metadata": {
    "collapsed": false
   },
   "outputs": [
    {
     "data": {
      "text/plain": [
       "\"done\""
      ]
     },
     "execution_count": 21,
     "metadata": {},
     "output_type": "execute_result"
    }
   ],
   "source": [
    "using StatsBase\n",
    "\n",
    "gen = FactorGraphSceneGenerator(model, Dict(:s => Normal(0.0,5.0), :v => Normal(0.0,1.0)), 1000)\n",
    "\n",
    "srand(0)\n",
    "m = 1000\n",
    "frames = Array{MobiusScene}(m)\n",
    "critical_cars_out = Vector{Vector{Int}}(m)\n",
    "for i in 1 : m\n",
    "    j = rand(1:length(scenes))\n",
    "    Δ = metropolis_hastings!(gen, factorgraphs[j])\n",
    "    frames[i] = shift_scene!(MobiusScene(), Δ, factorgraphs[j])\n",
    "    critical_cars_out[i] = critical_cars[j]\n",
    "end\n",
    "\n",
    "\"done\""
   ]
  },
  {
   "cell_type": "code",
   "execution_count": 23,
   "metadata": {
    "collapsed": false
   },
   "outputs": [
    {
     "data": {
      "text/plain": [
       "\"DONE\""
      ]
     },
     "execution_count": 23,
     "metadata": {},
     "output_type": "execute_result"
    }
   ],
   "source": [
    "open(\"../data/scenes_attentivemobiusfactorgraph_0731.txt\", \"w\") do io\n",
    "    write(io, MIME\"text/plain\"(), frames)\n",
    "end\n",
    "open(\"../data/crit_cars_attentivemobiusfactorgraph_0731.txt\", \"w\") do io\n",
    "    println(io, length(critical_cars_out))\n",
    "    for crit_cars in critical_cars_out\n",
    "        for (i,v) in enumerate(crit_cars)\n",
    "            print(io, v, i == length(crit_cars) ? \"\\n\" : \" \")\n",
    "        end\n",
    "    end\n",
    "end\n",
    "\"DONE\""
   ]
  },
  {
   "cell_type": "code",
   "execution_count": 30,
   "metadata": {
    "collapsed": false
   },
   "outputs": [
    {
     "data": {
      "text/plain": [
       "1000-element Array{Records.Frame{Records.Entity{AutomotiveDrivingModels.PosSpeed1D,AutomotiveDrivingModels.BoundingBoxDef,Int64}},1}:\n",
       " Frame{Records.Entity{AutomotiveDrivingModels.PosSpeed1D,AutomotiveDrivingModels.BoundingBoxDef,Int64}}(10 entities)\n",
       " Frame{Records.Entity{AutomotiveDrivingModels.PosSpeed1D,AutomotiveDrivingModels.BoundingBoxDef,Int64}}(8 entities) \n",
       " Frame{Records.Entity{AutomotiveDrivingModels.PosSpeed1D,AutomotiveDrivingModels.BoundingBoxDef,Int64}}(9 entities) \n",
       " Frame{Records.Entity{AutomotiveDrivingModels.PosSpeed1D,AutomotiveDrivingModels.BoundingBoxDef,Int64}}(24 entities)\n",
       " Frame{Records.Entity{AutomotiveDrivingModels.PosSpeed1D,AutomotiveDrivingModels.BoundingBoxDef,Int64}}(9 entities) \n",
       " Frame{Records.Entity{AutomotiveDrivingModels.PosSpeed1D,AutomotiveDrivingModels.BoundingBoxDef,Int64}}(9 entities) \n",
       " Frame{Records.Entity{AutomotiveDrivingModels.PosSpeed1D,AutomotiveDrivingModels.BoundingBoxDef,Int64}}(10 entities)\n",
       " Frame{Records.Entity{AutomotiveDrivingModels.PosSpeed1D,AutomotiveDrivingModels.BoundingBoxDef,Int64}}(21 entities)\n",
       " Frame{Records.Entity{AutomotiveDrivingModels.PosSpeed1D,AutomotiveDrivingModels.BoundingBoxDef,Int64}}(8 entities) \n",
       " Frame{Records.Entity{AutomotiveDrivingModels.PosSpeed1D,AutomotiveDrivingModels.BoundingBoxDef,Int64}}(11 entities)\n",
       " Frame{Records.Entity{AutomotiveDrivingModels.PosSpeed1D,AutomotiveDrivingModels.BoundingBoxDef,Int64}}(18 entities)\n",
       " Frame{Records.Entity{AutomotiveDrivingModels.PosSpeed1D,AutomotiveDrivingModels.BoundingBoxDef,Int64}}(20 entities)\n",
       " Frame{Records.Entity{AutomotiveDrivingModels.PosSpeed1D,AutomotiveDrivingModels.BoundingBoxDef,Int64}}(12 entities)\n",
       " ⋮                                                                                                                  \n",
       " Frame{Records.Entity{AutomotiveDrivingModels.PosSpeed1D,AutomotiveDrivingModels.BoundingBoxDef,Int64}}(17 entities)\n",
       " Frame{Records.Entity{AutomotiveDrivingModels.PosSpeed1D,AutomotiveDrivingModels.BoundingBoxDef,Int64}}(7 entities) \n",
       " Frame{Records.Entity{AutomotiveDrivingModels.PosSpeed1D,AutomotiveDrivingModels.BoundingBoxDef,Int64}}(17 entities)\n",
       " Frame{Records.Entity{AutomotiveDrivingModels.PosSpeed1D,AutomotiveDrivingModels.BoundingBoxDef,Int64}}(9 entities) \n",
       " Frame{Records.Entity{AutomotiveDrivingModels.PosSpeed1D,AutomotiveDrivingModels.BoundingBoxDef,Int64}}(10 entities)\n",
       " Frame{Records.Entity{AutomotiveDrivingModels.PosSpeed1D,AutomotiveDrivingModels.BoundingBoxDef,Int64}}(16 entities)\n",
       " Frame{Records.Entity{AutomotiveDrivingModels.PosSpeed1D,AutomotiveDrivingModels.BoundingBoxDef,Int64}}(16 entities)\n",
       " Frame{Records.Entity{AutomotiveDrivingModels.PosSpeed1D,AutomotiveDrivingModels.BoundingBoxDef,Int64}}(11 entities)\n",
       " Frame{Records.Entity{AutomotiveDrivingModels.PosSpeed1D,AutomotiveDrivingModels.BoundingBoxDef,Int64}}(6 entities) \n",
       " Frame{Records.Entity{AutomotiveDrivingModels.PosSpeed1D,AutomotiveDrivingModels.BoundingBoxDef,Int64}}(7 entities) \n",
       " Frame{Records.Entity{AutomotiveDrivingModels.PosSpeed1D,AutomotiveDrivingModels.BoundingBoxDef,Int64}}(10 entities)\n",
       " Frame{Records.Entity{AutomotiveDrivingModels.PosSpeed1D,AutomotiveDrivingModels.BoundingBoxDef,Int64}}(8 entities) "
      ]
     },
     "execution_count": 30,
     "metadata": {},
     "output_type": "execute_result"
    }
   ],
   "source": [
    "# open(\"../data/scenes_attentivemobiusfactorgraph_0728.txt\") do io\n",
    "#     read(io, MIME\"text/plain\"(), Vector{MobiusScene})\n",
    "# end\n",
    "\"DONE\""
   ]
  },
  {
   "cell_type": "code",
   "execution_count": null,
   "metadata": {
    "collapsed": true
   },
   "outputs": [],
   "source": []
  }
 ],
 "metadata": {
  "kernelspec": {
   "display_name": "Julia 0.6.0",
   "language": "julia",
   "name": "julia-0.6"
  },
  "language_info": {
   "file_extension": ".jl",
   "mimetype": "application/julia",
   "name": "julia",
   "version": "0.6.0"
  },
  "widgets": {
   "state": {},
   "version": "2.0.10"
  }
 },
 "nbformat": 4,
 "nbformat_minor": 2
}
