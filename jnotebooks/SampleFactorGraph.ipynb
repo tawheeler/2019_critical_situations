{
 "cells": [
  {
   "cell_type": "markdown",
   "metadata": {},
   "source": [
    "# Sample Factor Graph"
   ]
  },
  {
   "cell_type": "code",
   "execution_count": 1,
   "metadata": {
    "collapsed": false
   },
   "outputs": [
    {
     "data": {
      "text/plain": [
       "\"DONE\""
      ]
     },
     "execution_count": 1,
     "metadata": {},
     "output_type": "execute_result"
    }
   ],
   "source": [
    "using AutomotiveDrivingModels\n",
    "using AutoViz\n",
    "using AutoScenes\n",
    "using Records\n",
    "using HDF5, JLD\n",
    "using PGFPlots\n",
    "using Parameters\n",
    "\n",
    "include(\"../AutoMobius/AutoMobius.jl\")\n",
    "using AutoMobius\n",
    "\n",
    "include(\"../crit_cluster_sampling/sample_factor_graph.jl\")\n",
    "\"DONE\""
   ]
  },
  {
   "cell_type": "code",
   "execution_count": 4,
   "metadata": {
    "collapsed": false
   },
   "outputs": [
    {
     "ename": "LoadError",
     "evalue": "\u001b[91mUndefVarError: v_crit not defined\u001b[39m",
     "output_type": "error",
     "traceback": [
      "\u001b[91mUndefVarError: v_crit not defined\u001b[39m",
      "",
      "Stacktrace:",
      " [1] \u001b[1meval\u001b[22m\u001b[22m\u001b[1m(\u001b[22m\u001b[22m::Module, ::Any\u001b[1m)\u001b[22m\u001b[22m at \u001b[1m./boot.jl:235\u001b[22m\u001b[22m",
      " [2] \u001b[1mgrow_to!\u001b[22m\u001b[22m\u001b[1m(\u001b[22m\u001b[22m::Array{Function,1}, ::Base.Iterators.Rest{Base.Generator{Array{SubString{String},1},##10#13},Int64}, ::Int64\u001b[1m)\u001b[22m\u001b[22m at \u001b[1m./array.jl:498\u001b[22m\u001b[22m",
      " [3] \u001b[1mgrow_to!\u001b[22m\u001b[22m\u001b[1m(\u001b[22m\u001b[22m::Array{#v,1}, ::Base.Iterators.Rest{Base.Generator{Array{SubString{String},1},##10#13},Int64}, ::Int64\u001b[1m)\u001b[22m\u001b[22m at \u001b[1m./array.jl:506\u001b[22m\u001b[22m (repeats 2 times)",
      " [4] \u001b[1mgrow_to!\u001b[22m\u001b[22m\u001b[1m(\u001b[22m\u001b[22m::Array{Any,1}, ::Base.Iterators.Rest{Base.Generator{Array{SubString{String},1},##10#13},Int64}\u001b[1m)\u001b[22m\u001b[22m at \u001b[1m./array.jl:491\u001b[22m\u001b[22m",
      " [5] \u001b[1m(::##9#12)\u001b[22m\u001b[22m\u001b[1m(\u001b[22m\u001b[22m::IOStream\u001b[1m)\u001b[22m\u001b[22m at \u001b[1m/home/tim/.julia/v0.6/AutoScenes/src/factormodel.jl:19\u001b[22m\u001b[22m",
      " [6] \u001b[1mopen\u001b[22m\u001b[22m\u001b[1m(\u001b[22m\u001b[22m::##9#12, ::String, ::String\u001b[1m)\u001b[22m\u001b[22m at \u001b[1m./iostream.jl:152\u001b[22m\u001b[22m",
      " [7] \u001b[1minclude_string\u001b[22m\u001b[22m\u001b[1m(\u001b[22m\u001b[22m::String, ::String\u001b[1m)\u001b[22m\u001b[22m at \u001b[1m./loading.jl:515\u001b[22m\u001b[22m"
     ]
    }
   ],
   "source": [
    "model = @AutoScenes.load_factor_model(\"../data/1d_factorgraph_model_0726.txt\")\n",
    "model = create_penalty_model_from_global(model)"
   ]
  },
  {
   "cell_type": "code",
   "execution_count": 3,
   "metadata": {
    "collapsed": false
   },
   "outputs": [
    {
     "data": {
      "image/png": "[encoded data removed]",
      "text/plain": [
       "Cairo.CairoSurface{UInt32}(Ptr{Void} @0x0000000003b93320, 1000.0, 100.0, #undef)"
      ]
     },
     "execution_count": 3,
     "metadata": {},
     "output_type": "execute_result"
    }
   ],
   "source": [
    "srand(0)\n",
    "timestep = 0.1\n",
    "scenegen = BayesNets1DSceneModel()\n",
    "scene = MobiusScene()\n",
    "roadway = Wraparound(Straight1DRoadway(200.0))\n",
    "models = Dict{Int, LaneFollowingDriver}()\n",
    "behgen = ErrorableIDMBehaviorGenerator(timestep)\n",
    "\n",
    "rand!(scene, scenegen, roadway)\n",
    "rand!(models, behgen, scene)\n",
    "\n",
    "cam = StaticCamera(VecE2(100.0,0.0), 4.75)\n",
    "car_colors = get_pastel_car_colors(scene)\n",
    "render(scene, roadway, [AttentionOverlay(id, model) for (id,model) in models], \n",
    "       cam=cam, canvas_height=100, car_colors=car_colors)"
   ]
  },
  {
   "cell_type": "code",
   "execution_count": 5,
   "metadata": {
    "collapsed": false
   },
   "outputs": [
    {
     "data": {
      "text/plain": [
       "FactorGraphSceneGenerator(burnin=100)"
      ]
     },
     "execution_count": 5,
     "metadata": {},
     "output_type": "execute_result"
    }
   ],
   "source": [
    "factorgraph = FactorGraph(model.features, scene, roadway)\n",
    "gen = FactorGraphSceneGenerator(model, Dict(:s => Normal(0.0,5.0), :v => Normal(0.0,1.0)), 100)"
   ]
  },
  {
   "cell_type": "code",
   "execution_count": 5,
   "metadata": {
    "collapsed": false
   },
   "outputs": [
    {
     "data": {
      "text/plain": [
       "24-element Array{Float64,1}:\n",
       " -27.0519  \n",
       "   2.72601 \n",
       "   0.0     \n",
       " -11.1321  \n",
       "  -5.75977 \n",
       "   0.0     \n",
       " -18.7688  \n",
       "   1.39435 \n",
       "   0.0     \n",
       "  17.9644  \n",
       "  -6.1659  \n",
       "   0.0     \n",
       "   6.56588 \n",
       "   1.34205 \n",
       "   0.0     \n",
       "  13.4973  \n",
       "  -2.29846 \n",
       "   0.0     \n",
       " -18.046   \n",
       "  -3.9373  \n",
       "   0.0     \n",
       " -20.2491  \n",
       "   0.158927\n",
       "   0.0     "
      ]
     },
     "execution_count": 5,
     "metadata": {},
     "output_type": "execute_result"
    }
   ],
   "source": [
    "srand(0)\n",
    "Δ = metropolis_hastings!(gen, factorgraph)"
   ]
  },
  {
   "cell_type": "code",
   "execution_count": 7,
   "metadata": {
    "collapsed": false
   },
   "outputs": [
    {
     "data": {
      "image/png": "[encoded data removed]",
      "text/plain": [
       "Cairo.CairoSurface{UInt32}(Ptr{Void} @0x0000000005612800, 1000.0, 100.0, #undef)"
      ]
     },
     "execution_count": 7,
     "metadata": {},
     "output_type": "execute_result"
    }
   ],
   "source": [
    "scene2 = shift_scene!(MobiusScene(), scene, Δ, factorgraph)\n",
    "render(scene2, roadway, cam=cam, canvas_height=100, car_colors=car_colors)"
   ]
  },
  {
   "cell_type": "code",
   "execution_count": null,
   "metadata": {
    "collapsed": true
   },
   "outputs": [],
   "source": []
  }
 ],
 "metadata": {
  "kernelspec": {
   "display_name": "Julia 0.6.0",
   "language": "julia",
   "name": "julia-0.6"
  },
  "language_info": {
   "file_extension": ".jl",
   "mimetype": "application/julia",
   "name": "julia",
   "version": "0.6.0"
  },
  "widgets": {
   "state": {},
   "version": "2.0.10"
  }
 },
 "nbformat": 4,
 "nbformat_minor": 2
}
